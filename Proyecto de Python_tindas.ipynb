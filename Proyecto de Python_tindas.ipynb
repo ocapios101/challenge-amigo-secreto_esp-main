{
  "nbformat": 4,
  "nbformat_minor": 0,
  "metadata": {
    "colab": {
      "provenance": [],
      "authorship_tag": "ABX9TyOPdvfbtX6sgfUYLH6eiqLS",
      "include_colab_link": true
    },
    "kernelspec": {
      "name": "python3",
      "display_name": "Python 3"
    },
    "language_info": {
      "name": "python"
    }
  },
  "cells": [
    {
      "cell_type": "markdown",
      "metadata": {
        "id": "view-in-github",
        "colab_type": "text"
      },
      "source": [
        "<a href=\"https://colab.research.google.com/github/ocapios101/challenge-amigo-secreto_esp-main/blob/main/Proyecto%20de%20Python_tindas.ipynb\" target=\"_parent\"><img src=\"https://colab.research.google.com/assets/colab-badge.svg\" alt=\"Open In Colab\"/></a>"
      ]
    },
    {
      "cell_type": "code",
      "source": [
        "!pip install xlsxwriter\n",
        "import pandas as pd\n",
        "import matplotlib.pyplot as plt\n",
        "import seaborn as sns\n",
        "import os\n",
        "import xlsxwriter\n",
        "\n",
        "# Crear carpeta para guardar resultados si no existe\n",
        "os.makedirs(\"resultados_analisis\", exist_ok=True)\n",
        "\n",
        "# URLs de las bases de datos\n",
        "urls = [\n",
        "    \"https://raw.githubusercontent.com/alura-es-cursos/challenge1-data-science-latam/main/base-de-datos-challenge1-latam/tienda_1%20.csv\",\n",
        "    \"https://raw.githubusercontent.com/alura-es-cursos/challenge1-data-science-latam/main/base-de-datos-challenge1-latam/tienda_2.csv\",\n",
        "    \"https://raw.githubusercontent.com/alura-es-cursos/challenge1-data-science-latam/main/base-de-datos-challenge1-latam/tienda_3.csv\",\n",
        "    \"https://raw.githubusercontent.com/alura-es-cursos/challenge1-data-science-latam/main/base-de-datos-challenge1-latam/tienda_4.csv\"\n",
        "]\n",
        "\n",
        "# Función para analizar cada tienda\n",
        "def analizar_tienda(df, nombre_tienda):\n",
        "    resultados = {}\n",
        "\n",
        "    # Verificar si existe la columna 'Cantidad'; si no, crearla con valor 1\n",
        "    if 'Cantidad' not in df.columns:\n",
        "        df['Cantidad'] = 1\n",
        "\n",
        "    # 1. Facturación\n",
        "    df['Precio_Total'] = df['Precio'] * df['Cantidad']\n",
        "    resultados['Facturación total'] = df['Precio_Total'].sum()\n",
        "\n",
        "    # 2. Ventas por categoría\n",
        "    ventas_categoria = df.groupby('Categoría del Producto')['Cantidad'].sum().sort_values(ascending=False)\n",
        "    resultados['Ventas por categoría'] = ventas_categoria\n",
        "\n",
        "    # 3. Calificación promedio\n",
        "    resultados['Calificación promedio'] = df['Calificación'].mean()\n",
        "\n",
        "    # 4. Productos más y menos vendidos\n",
        "    productos_vendidos = df.groupby('Producto')['Cantidad'].sum().sort_values(ascending=False)\n",
        "    resultados['Producto más vendido'] = (productos_vendidos.idxmax(), productos_vendidos.max())\n",
        "    resultados['Producto menos vendido'] = (productos_vendidos.idxmin(), productos_vendidos.min())\n",
        "\n",
        "    # 5. Envío promedio\n",
        "    resultados['Costo de envío promedio'] = df['Costo de envío'].mean()\n",
        "\n",
        "    # Guardar resumen a archivo Excel\n",
        "    writer = pd.ExcelWriter(f\"resultados_analisis/{nombre_tienda}_analisis.xlsx\", engine='xlsxwriter')\n",
        "    resumen = pd.DataFrame({\n",
        "        'Métrica': ['Facturación total', 'Calificación promedio', 'Costo de envío promedio'],\n",
        "        'Valor': [resultados['Facturación total'], resultados['Calificación promedio'], resultados['Costo de envío promedio']]\n",
        "    })\n",
        "    resumen.to_excel(writer, sheet_name='Resumen', index=False)\n",
        "    ventas_categoria.to_frame(name='Cantidad').to_excel(writer, sheet_name='Ventas por categoría')\n",
        "    productos_vendidos.to_frame(name='Cantidad').to_excel(writer, sheet_name='Ventas por producto')\n",
        "    writer.close()\n",
        "\n",
        "    # Gráfico: Ventas por categoría\n",
        "    plt.figure(figsize=(10, 5))\n",
        "    sns.barplot(x=ventas_categoria.index, y=ventas_categoria.values, palette=\"viridis\")\n",
        "    plt.title(f\"Ventas por Categoría - {nombre_tienda}\")\n",
        "    plt.ylabel(\"Cantidad Vendida\")\n",
        "    plt.xticks(rotation=45)\n",
        "    plt.tight_layout()\n",
        "    plt.savefig(f\"resultados_analisis/{nombre_tienda}_ventas_categoria.png\")\n",
        "    plt.close()\n",
        "\n",
        "    # Gráfico: Top 10 productos más vendidos\n",
        "    top10 = productos_vendidos.head(10)\n",
        "    plt.figure(figsize=(10, 5))\n",
        "    sns.barplot(x=top10.values, y=top10.index, palette=\"crest\")\n",
        "    plt.title(f\"Top 10 Productos Más Vendidos - {nombre_tienda}\")\n",
        "    plt.xlabel(\"Cantidad Vendida\")\n",
        "    plt.tight_layout()\n",
        "    plt.savefig(f\"resultados_analisis/{nombre_tienda}_top10_mas_vendidos.png\")\n",
        "    plt.close()\n",
        "\n",
        "    # Gráfico: Top 10 productos menos vendidos\n",
        "    bottom10 = productos_vendidos.tail(10).sort_values(ascending=True)\n",
        "    plt.figure(figsize=(10, 5))\n",
        "    sns.barplot(x=bottom10.values, y=bottom10.index, palette=\"flare\")\n",
        "    plt.title(f\"Top 10 Productos Menos Vendidos - {nombre_tienda}\")\n",
        "    plt.xlabel(\"Cantidad Vendida\")\n",
        "    plt.tight_layout()\n",
        "    plt.savefig(f\"resultados_analisis/{nombre_tienda}_top10_menos_vendidos.png\")\n",
        "    plt.close()\n",
        "\n",
        "# Ejecutar análisis para cada tienda\n",
        "for i, url in enumerate(urls, start=1):\n",
        "    df = pd.read_csv(url)\n",
        "    analizar_tienda(df, f\"Tienda_{i}\")\n",
        "\n",
        "print(\"Análisis completado. Revisa la carpeta 'resultados_analisis'.\")"
      ],
      "metadata": {
        "colab": {
          "base_uri": "https://localhost:8080/"
        },
        "id": "EoQh_FLnU_X2",
        "outputId": "a76353d8-1b9e-418a-9e43-fe4c4b8a3858"
      },
      "execution_count": 87,
      "outputs": [
        {
          "output_type": "stream",
          "name": "stdout",
          "text": [
            "Collecting xlsxwriter\n",
            "  Downloading XlsxWriter-3.2.3-py3-none-any.whl.metadata (2.7 kB)\n",
            "Downloading XlsxWriter-3.2.3-py3-none-any.whl (169 kB)\n",
            "\u001b[?25l   \u001b[90m━━━━━━━━━━━━━━━━━━━━━━━━━━━━━━━━━━━━━━━━\u001b[0m \u001b[32m0.0/169.4 kB\u001b[0m \u001b[31m?\u001b[0m eta \u001b[36m-:--:--\u001b[0m\r\u001b[2K   \u001b[90m━━━━━━━━━━━━━━━━━━━━━━━━━━━━━━━━━━━━━━━━\u001b[0m \u001b[32m169.4/169.4 kB\u001b[0m \u001b[31m7.3 MB/s\u001b[0m eta \u001b[36m0:00:00\u001b[0m\n",
            "\u001b[?25hInstalling collected packages: xlsxwriter\n",
            "Successfully installed xlsxwriter-3.2.3\n"
          ]
        },
        {
          "output_type": "stream",
          "name": "stderr",
          "text": [
            "<ipython-input-87-12a358d153ce>:59: FutureWarning: \n",
            "\n",
            "Passing `palette` without assigning `hue` is deprecated and will be removed in v0.14.0. Assign the `x` variable to `hue` and set `legend=False` for the same effect.\n",
            "\n",
            "  sns.barplot(x=ventas_categoria.index, y=ventas_categoria.values, palette=\"viridis\")\n",
            "<ipython-input-87-12a358d153ce>:70: FutureWarning: \n",
            "\n",
            "Passing `palette` without assigning `hue` is deprecated and will be removed in v0.14.0. Assign the `y` variable to `hue` and set `legend=False` for the same effect.\n",
            "\n",
            "  sns.barplot(x=top10.values, y=top10.index, palette=\"crest\")\n",
            "<ipython-input-87-12a358d153ce>:80: FutureWarning: \n",
            "\n",
            "Passing `palette` without assigning `hue` is deprecated and will be removed in v0.14.0. Assign the `y` variable to `hue` and set `legend=False` for the same effect.\n",
            "\n",
            "  sns.barplot(x=bottom10.values, y=bottom10.index, palette=\"flare\")\n",
            "<ipython-input-87-12a358d153ce>:59: FutureWarning: \n",
            "\n",
            "Passing `palette` without assigning `hue` is deprecated and will be removed in v0.14.0. Assign the `x` variable to `hue` and set `legend=False` for the same effect.\n",
            "\n",
            "  sns.barplot(x=ventas_categoria.index, y=ventas_categoria.values, palette=\"viridis\")\n",
            "<ipython-input-87-12a358d153ce>:70: FutureWarning: \n",
            "\n",
            "Passing `palette` without assigning `hue` is deprecated and will be removed in v0.14.0. Assign the `y` variable to `hue` and set `legend=False` for the same effect.\n",
            "\n",
            "  sns.barplot(x=top10.values, y=top10.index, palette=\"crest\")\n",
            "<ipython-input-87-12a358d153ce>:80: FutureWarning: \n",
            "\n",
            "Passing `palette` without assigning `hue` is deprecated and will be removed in v0.14.0. Assign the `y` variable to `hue` and set `legend=False` for the same effect.\n",
            "\n",
            "  sns.barplot(x=bottom10.values, y=bottom10.index, palette=\"flare\")\n",
            "<ipython-input-87-12a358d153ce>:59: FutureWarning: \n",
            "\n",
            "Passing `palette` without assigning `hue` is deprecated and will be removed in v0.14.0. Assign the `x` variable to `hue` and set `legend=False` for the same effect.\n",
            "\n",
            "  sns.barplot(x=ventas_categoria.index, y=ventas_categoria.values, palette=\"viridis\")\n",
            "<ipython-input-87-12a358d153ce>:70: FutureWarning: \n",
            "\n",
            "Passing `palette` without assigning `hue` is deprecated and will be removed in v0.14.0. Assign the `y` variable to `hue` and set `legend=False` for the same effect.\n",
            "\n",
            "  sns.barplot(x=top10.values, y=top10.index, palette=\"crest\")\n",
            "<ipython-input-87-12a358d153ce>:80: FutureWarning: \n",
            "\n",
            "Passing `palette` without assigning `hue` is deprecated and will be removed in v0.14.0. Assign the `y` variable to `hue` and set `legend=False` for the same effect.\n",
            "\n",
            "  sns.barplot(x=bottom10.values, y=bottom10.index, palette=\"flare\")\n",
            "<ipython-input-87-12a358d153ce>:59: FutureWarning: \n",
            "\n",
            "Passing `palette` without assigning `hue` is deprecated and will be removed in v0.14.0. Assign the `x` variable to `hue` and set `legend=False` for the same effect.\n",
            "\n",
            "  sns.barplot(x=ventas_categoria.index, y=ventas_categoria.values, palette=\"viridis\")\n",
            "<ipython-input-87-12a358d153ce>:70: FutureWarning: \n",
            "\n",
            "Passing `palette` without assigning `hue` is deprecated and will be removed in v0.14.0. Assign the `y` variable to `hue` and set `legend=False` for the same effect.\n",
            "\n",
            "  sns.barplot(x=top10.values, y=top10.index, palette=\"crest\")\n"
          ]
        },
        {
          "output_type": "stream",
          "name": "stdout",
          "text": [
            "Análisis completado. Revisa la carpeta 'resultados_analisis'.\n"
          ]
        },
        {
          "output_type": "stream",
          "name": "stderr",
          "text": [
            "<ipython-input-87-12a358d153ce>:80: FutureWarning: \n",
            "\n",
            "Passing `palette` without assigning `hue` is deprecated and will be removed in v0.14.0. Assign the `y` variable to `hue` and set `legend=False` for the same effect.\n",
            "\n",
            "  sns.barplot(x=bottom10.values, y=bottom10.index, palette=\"flare\")\n"
          ]
        }
      ]
    }
  ]
}